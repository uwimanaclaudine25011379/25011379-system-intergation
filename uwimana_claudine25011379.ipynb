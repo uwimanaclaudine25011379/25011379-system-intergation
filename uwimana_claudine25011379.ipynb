{
  "nbformat": 4,
  "nbformat_minor": 0,
  "metadata": {
    "colab": {
      "provenance": [],
      "authorship_tag": "ABX9TyPSDssD67+TyYW9vvPJ2lRt",
      "include_colab_link": true
    },
    "kernelspec": {
      "name": "python3",
      "display_name": "Python 3"
    },
    "language_info": {
      "name": "python"
    }
  },
  "cells": [
    {
      "cell_type": "markdown",
      "metadata": {
        "id": "view-in-github",
        "colab_type": "text"
      },
      "source": [
        "<a href=\"https://colab.research.google.com/github/uwimanaclaudine25011379/25011379-system-intergation/blob/main/uwimana_claudine25011379.ipynb\" target=\"_parent\"><img src=\"https://colab.research.google.com/assets/colab-badge.svg\" alt=\"Open In Colab\"/></a>"
      ]
    },
    {
      "cell_type": "code",
      "execution_count": null,
      "metadata": {
        "id": "0l2Fw_pgLcGV"
      },
      "outputs": [],
      "source": [
        "import requests\n",
        "import json"
      ]
    },
    {
      "cell_type": "markdown",
      "source": [],
      "metadata": {
        "id": "OH156FbLMLc_"
      }
    },
    {
      "cell_type": "markdown",
      "source": [
        "!pip3 install requests"
      ],
      "metadata": {
        "id": "HmZEX3n6OAs2"
      }
    },
    {
      "cell_type": "code",
      "source": [
        "!pip3 install requests"
      ],
      "metadata": {
        "colab": {
          "base_uri": "https://localhost:8080/"
        },
        "id": "wkn_GrfRPXvL",
        "outputId": "5ddc448c-44f6-4d40-cd99-51e28acb7e4d"
      },
      "execution_count": null,
      "outputs": [
        {
          "output_type": "stream",
          "name": "stdout",
          "text": [
            "Requirement already satisfied: requests in /usr/local/lib/python3.11/dist-packages (2.32.3)\n",
            "Requirement already satisfied: charset-normalizer<4,>=2 in /usr/local/lib/python3.11/dist-packages (from requests) (3.4.2)\n",
            "Requirement already satisfied: idna<4,>=2.5 in /usr/local/lib/python3.11/dist-packages (from requests) (3.10)\n",
            "Requirement already satisfied: urllib3<3,>=1.21.1 in /usr/local/lib/python3.11/dist-packages (from requests) (2.4.0)\n",
            "Requirement already satisfied: certifi>=2017.4.17 in /usr/local/lib/python3.11/dist-packages (from requests) (2025.7.9)\n"
          ]
        }
      ]
    },
    {
      "cell_type": "markdown",
      "source": [
        "result = requests.get(http://api.stackchange.com//2.3/questions?order=desc&sort=activity&site=stackoverflow)"
      ],
      "metadata": {
        "id": "XPQ-JWhqPPkS"
      }
    },
    {
      "cell_type": "code",
      "source": [
        "\n",
        "result = requests.get(http://api.stackchange.com//2.3/questions?order=desc&sort=activity&site=stackoverflow)"
      ],
      "metadata": {
        "colab": {
          "base_uri": "https://localhost:8080/",
          "height": 106
        },
        "id": "fymjreCRPxYt",
        "outputId": "0f58cc05-0130-4820-8841-184102633f4f"
      },
      "execution_count": null,
      "outputs": [
        {
          "output_type": "error",
          "ename": "SyntaxError",
          "evalue": "invalid syntax (ipython-input-9-4258859529.py, line 1)",
          "traceback": [
            "\u001b[0;36m  File \u001b[0;32m\"/tmp/ipython-input-9-4258859529.py\"\u001b[0;36m, line \u001b[0;32m1\u001b[0m\n\u001b[0;31m    result = requests.get(http://api.stackchange.com//2.3/questions?order=desc&sort=activity&site=stackoverflow)\u001b[0m\n\u001b[0m                              ^\u001b[0m\n\u001b[0;31mSyntaxError\u001b[0m\u001b[0;31m:\u001b[0m invalid syntax\n"
          ]
        }
      ]
    },
    {
      "cell_type": "markdown",
      "source": [],
      "metadata": {
        "id": "_hiXgoRwL8nP"
      }
    }
  ]
}